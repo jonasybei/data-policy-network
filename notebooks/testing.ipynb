{
 "cells": [
  {
   "cell_type": "code",
   "execution_count": 1,
   "metadata": {},
   "outputs": [],
   "source": [
    "import pandas as pd\n",
    "import numpy as np"
   ]
  },
  {
   "cell_type": "code",
   "execution_count": 2,
   "metadata": {},
   "outputs": [],
   "source": [
    "df_path = '../data/data.csv'\n",
    "df = pd.read_csv(df_path)"
   ]
  },
  {
   "cell_type": "code",
   "execution_count": 3,
   "metadata": {},
   "outputs": [
    {
     "data": {
      "text/html": [
       "<div>\n",
       "<style scoped>\n",
       "    .dataframe tbody tr th:only-of-type {\n",
       "        vertical-align: middle;\n",
       "    }\n",
       "\n",
       "    .dataframe tbody tr th {\n",
       "        vertical-align: top;\n",
       "    }\n",
       "\n",
       "    .dataframe thead th {\n",
       "        text-align: right;\n",
       "    }\n",
       "</style>\n",
       "<table border=\"1\" class=\"dataframe\">\n",
       "  <thead>\n",
       "    <tr style=\"text-align: right;\">\n",
       "      <th></th>\n",
       "      <th>name</th>\n",
       "      <th>name-formatted</th>\n",
       "      <th>url</th>\n",
       "      <th>text</th>\n",
       "      <th>tokenized_text</th>\n",
       "    </tr>\n",
       "  </thead>\n",
       "  <tbody>\n",
       "    <tr>\n",
       "      <th>0</th>\n",
       "      <td>Aeres University of Applied Sciences</td>\n",
       "      <td>aeres-university-of-applied-sciences</td>\n",
       "      <td>https://www.aeres.eu/about-privacy/privacy-sta...</td>\n",
       "      <td>Aeres handles your data with care. Below we ex...</td>\n",
       "      <td>['Aeres', 'handles', 'your', 'data', 'with', '...</td>\n",
       "    </tr>\n",
       "    <tr>\n",
       "      <th>1</th>\n",
       "      <td>Amsterdam Fashion Academy</td>\n",
       "      <td>amsterdam-fashion-academy</td>\n",
       "      <td>https://www.amsterdamfashionacademy.com/privac...</td>\n",
       "      <td>Privacy Policy\\nAmsterdam Fashion Academy (AFA...</td>\n",
       "      <td>['Privacy', 'Policy', 'Amsterdam', 'Fashion', ...</td>\n",
       "    </tr>\n",
       "    <tr>\n",
       "      <th>2</th>\n",
       "      <td>Amsterdam University of Applied Sciences</td>\n",
       "      <td>amsterdam-university-of-applied-sciences</td>\n",
       "      <td>https://www.amsterdamuas.com/home/disclaimers/...</td>\n",
       "      <td>Privacy\\nPrivacy Statement, Cookies and Cookie...</td>\n",
       "      <td>['Privacy', 'Privacy', 'Statement', 'Cookies',...</td>\n",
       "    </tr>\n",
       "    <tr>\n",
       "      <th>3</th>\n",
       "      <td>Amsterdam University of the Arts</td>\n",
       "      <td>amsterdam-university-of-the-arts</td>\n",
       "      <td>https://www.ahk.nl/en/contact/privacy/</td>\n",
       "      <td>Your personal data and your privacy\\nThe Amste...</td>\n",
       "      <td>['Your', 'personal', 'data', 'and', 'your', 'p...</td>\n",
       "    </tr>\n",
       "    <tr>\n",
       "      <th>4</th>\n",
       "      <td>Amsterdamse Hogeschool voor de Kunsten</td>\n",
       "      <td>amsterdamse-hogeschool-voor-de-kunsten</td>\n",
       "      <td>https://www.hku.nl/en/privacy-statement-discla...</td>\n",
       "      <td>HKU processes personal data in accordance with...</td>\n",
       "      <td>['HKU', 'processes', 'personal', 'data', 'in',...</td>\n",
       "    </tr>\n",
       "    <tr>\n",
       "      <th>...</th>\n",
       "      <td>...</td>\n",
       "      <td>...</td>\n",
       "      <td>...</td>\n",
       "      <td>...</td>\n",
       "      <td>...</td>\n",
       "    </tr>\n",
       "    <tr>\n",
       "      <th>70</th>\n",
       "      <td>Wageningen University &amp; Research</td>\n",
       "      <td>wageningen-universiteit-and-research</td>\n",
       "      <td>https://www.wur.nl/en/value-creation-cooperati...</td>\n",
       "      <td>Research data sharing and guidelines\\nData sha...</td>\n",
       "      <td>['Research', 'data', 'sharing', 'and', 'guidel...</td>\n",
       "    </tr>\n",
       "    <tr>\n",
       "      <th>71</th>\n",
       "      <td>Webster Leiden</td>\n",
       "      <td>webster-leiden</td>\n",
       "      <td>https://www.webster.edu/privacy-security/priva...</td>\n",
       "      <td>GDPR determines circumstances for collecting, ...</td>\n",
       "      <td>['GDPR', 'determines', 'circumstances', 'for',...</td>\n",
       "    </tr>\n",
       "    <tr>\n",
       "      <th>72</th>\n",
       "      <td>Windesheim University of Applied Sciences</td>\n",
       "      <td>windesheim-university-of-applied-sciences</td>\n",
       "      <td>NaN</td>\n",
       "      <td>NaN</td>\n",
       "      <td>[]</td>\n",
       "    </tr>\n",
       "    <tr>\n",
       "      <th>73</th>\n",
       "      <td>Wittenborg University of Applied Sciences</td>\n",
       "      <td>hogeschool-wittenborg</td>\n",
       "      <td>https://www.wittenborg.eu/privacy-notices-witt...</td>\n",
       "      <td>Wittenborg University of Applied Sciences need...</td>\n",
       "      <td>['Wittenborg', 'University', 'of', 'Applied', ...</td>\n",
       "    </tr>\n",
       "    <tr>\n",
       "      <th>74</th>\n",
       "      <td>Zuyd University of Applied Sciences</td>\n",
       "      <td>zuyd-university-of-applied-sciences</td>\n",
       "      <td>https://www.zuyd.nl/binaries/content/assets/zu...</td>\n",
       "      <td>\\n \\n \\n1/5 \\n  \\n \\nPrivacy policy for stude...</td>\n",
       "      <td>['15', 'Privacy', 'policy', 'for', 'students',...</td>\n",
       "    </tr>\n",
       "  </tbody>\n",
       "</table>\n",
       "<p>75 rows × 5 columns</p>\n",
       "</div>"
      ],
      "text/plain": [
       "                                         name  \\\n",
       "0        Aeres University of Applied Sciences   \n",
       "1                   Amsterdam Fashion Academy   \n",
       "2    Amsterdam University of Applied Sciences   \n",
       "3            Amsterdam University of the Arts   \n",
       "4      Amsterdamse Hogeschool voor de Kunsten   \n",
       "..                                        ...   \n",
       "70           Wageningen University & Research   \n",
       "71                             Webster Leiden   \n",
       "72  Windesheim University of Applied Sciences   \n",
       "73  Wittenborg University of Applied Sciences   \n",
       "74        Zuyd University of Applied Sciences   \n",
       "\n",
       "                               name-formatted  \\\n",
       "0        aeres-university-of-applied-sciences   \n",
       "1                   amsterdam-fashion-academy   \n",
       "2    amsterdam-university-of-applied-sciences   \n",
       "3            amsterdam-university-of-the-arts   \n",
       "4      amsterdamse-hogeschool-voor-de-kunsten   \n",
       "..                                        ...   \n",
       "70       wageningen-universiteit-and-research   \n",
       "71                             webster-leiden   \n",
       "72  windesheim-university-of-applied-sciences   \n",
       "73                      hogeschool-wittenborg   \n",
       "74        zuyd-university-of-applied-sciences   \n",
       "\n",
       "                                                  url  \\\n",
       "0   https://www.aeres.eu/about-privacy/privacy-sta...   \n",
       "1   https://www.amsterdamfashionacademy.com/privac...   \n",
       "2   https://www.amsterdamuas.com/home/disclaimers/...   \n",
       "3              https://www.ahk.nl/en/contact/privacy/   \n",
       "4   https://www.hku.nl/en/privacy-statement-discla...   \n",
       "..                                                ...   \n",
       "70  https://www.wur.nl/en/value-creation-cooperati...   \n",
       "71  https://www.webster.edu/privacy-security/priva...   \n",
       "72                                                NaN   \n",
       "73  https://www.wittenborg.eu/privacy-notices-witt...   \n",
       "74  https://www.zuyd.nl/binaries/content/assets/zu...   \n",
       "\n",
       "                                                 text  \\\n",
       "0   Aeres handles your data with care. Below we ex...   \n",
       "1   Privacy Policy\\nAmsterdam Fashion Academy (AFA...   \n",
       "2   Privacy\\nPrivacy Statement, Cookies and Cookie...   \n",
       "3   Your personal data and your privacy\\nThe Amste...   \n",
       "4   HKU processes personal data in accordance with...   \n",
       "..                                                ...   \n",
       "70  Research data sharing and guidelines\\nData sha...   \n",
       "71  GDPR determines circumstances for collecting, ...   \n",
       "72                                                NaN   \n",
       "73  Wittenborg University of Applied Sciences need...   \n",
       "74   \\n \\n \\n1/5 \\n  \\n \\nPrivacy policy for stude...   \n",
       "\n",
       "                                       tokenized_text  \n",
       "0   ['Aeres', 'handles', 'your', 'data', 'with', '...  \n",
       "1   ['Privacy', 'Policy', 'Amsterdam', 'Fashion', ...  \n",
       "2   ['Privacy', 'Privacy', 'Statement', 'Cookies',...  \n",
       "3   ['Your', 'personal', 'data', 'and', 'your', 'p...  \n",
       "4   ['HKU', 'processes', 'personal', 'data', 'in',...  \n",
       "..                                                ...  \n",
       "70  ['Research', 'data', 'sharing', 'and', 'guidel...  \n",
       "71  ['GDPR', 'determines', 'circumstances', 'for',...  \n",
       "72                                                 []  \n",
       "73  ['Wittenborg', 'University', 'of', 'Applied', ...  \n",
       "74  ['15', 'Privacy', 'policy', 'for', 'students',...  \n",
       "\n",
       "[75 rows x 5 columns]"
      ]
     },
     "execution_count": 3,
     "metadata": {},
     "output_type": "execute_result"
    }
   ],
   "source": [
    "df"
   ]
  },
  {
   "cell_type": "code",
   "execution_count": 4,
   "metadata": {},
   "outputs": [],
   "source": [
    "def jaccard_similarity(text1, text2):\n",
    "    set1 = set(text1)\n",
    "    set2 = set(text2)\n",
    "\n",
    "    intersection = set1.intersection(set2)\n",
    "    union = set1.union(set2)\n",
    "\n",
    "    return len(intersection)/len(union)"
   ]
  },
  {
   "cell_type": "code",
   "execution_count": 21,
   "metadata": {},
   "outputs": [],
   "source": [
    "df_no_na = df.dropna()\n",
    "texts = df_no_na['tokenized_text'].to_numpy()\n",
    "\n",
    "similarities = np.zeros([df_no_na.shape[0], df_no_na.shape[0]])\n",
    "similarities_for_hist = []\n",
    "\n",
    "for i in range(len(texts)):\n",
    "    text1 = df.iloc[i]['tokenized_text']\n",
    "    for j in range(i, len(texts)):\n",
    "        text2 = df.iloc[j]['tokenized_text']\n",
    "        similarity = jaccard_similarity(text1, text2)\n",
    "        similarities[i, j] = similarity\n",
    "        similarities[j, i] = similarity\n",
    "        similarities_for_hist.append(similarity)\n"
   ]
  },
  {
   "cell_type": "code",
   "execution_count": 26,
   "metadata": {},
   "outputs": [
    {
     "data": {
      "image/png": "[encoded data removed]",
      "text/plain": [
       "<Figure size 640x480 with 1 Axes>"
      ]
     },
     "metadata": {},
     "output_type": "display_data"
    }
   ],
   "source": [
    "import matplotlib.pyplot as plt\n",
    "_ = plt.hist(similarities_for_hist, bins=20)"
   ]
  },
  {
   "cell_type": "code",
   "execution_count": 19,
   "metadata": {},
   "outputs": [
    {
     "data": {
      "text/plain": [
       "<Axes: >"
      ]
     },
     "execution_count": 19,
     "metadata": {},
     "output_type": "execute_result"
    },
    {
     "data": {
      "image/png": "[encoded data removed]",
      "text/plain": [
       "<Figure size 640x480 with 2 Axes>"
      ]
     },
     "metadata": {},
     "output_type": "display_data"
    }
   ],
   "source": []
  },
  {
   "cell_type": "code",
   "execution_count": 6,
   "metadata": {},
   "outputs": [
    {
     "name": "stdout",
     "output_type": "stream",
     "text": [
      "0\n",
      "1\n",
      "2\n",
      "3\n",
      "4\n",
      "5\n",
      "6\n",
      "7\n",
      "8\n",
      "9\n"
     ]
    }
   ],
   "source": [
    "for i in range(0, 10):\n",
    "    print(i)"
   ]
  },
  {
   "cell_type": "code",
   "execution_count": null,
   "metadata": {},
   "outputs": [
    {
     "data": {
      "text/plain": [
       "1.0"
      ]
     },
     "execution_count": 10,
     "metadata": {},
     "output_type": "execute_result"
    }
   ],
   "source": [
    "text1 = df.iloc[4]['tokenized_text']\n",
    "text2 = df.iloc[34]['tokenized_text']\n",
    "\n",
    "jaccard_similarity(text1, text2)"
   ]
  }
 ],
 "metadata": {
  "kernelspec": {
   "display_name": ".venv",
   "language": "python",
   "name": "python3"
  },
  "language_info": {
   "codemirror_mode": {
    "name": "ipython",
    "version": 3
   },
   "file_extension": ".py",
   "mimetype": "text/x-python",
   "name": "python",
   "nbconvert_exporter": "python",
   "pygments_lexer": "ipython3",
   "version": "3.10.12"
  }
 },
 "nbformat": 4,
 "nbformat_minor": 2
}
